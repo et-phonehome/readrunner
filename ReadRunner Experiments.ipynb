{
 "cells": [
  {
   "cell_type": "code",
   "execution_count": 9,
   "metadata": {},
   "outputs": [
    {
     "name": "stdout",
     "output_type": "stream",
     "text": [
      "['That', 'really', 'was', 'Elon', 'Musk', 'who', 'stopped', 'by', 'the', 'Tesla', 'Inc.', 'solar', 'panel', 'factory', 'in', 'Buffalo', 'on', 'Friday', 'Musk,', \"Tesla's\", 'chairman', 'and', 'CEO,', 'visited', 'the', 'South', 'Park', 'Avenue', 'factory', 'Friday,', 'a', 'Tesla', 'spokeswoman', 'confirmed.', 'She', 'did', 'not', 'elaborate', 'on', 'what', 'Musk', 'did', 'here', 'or', 'offer', 'any', 'other', 'details', 'of', 'the', 'visit.', 'She', 'said', 'Musk,', 'who', 'has', 'never', 'made', 'a', 'public', 'visit', 'to', 'Buffalo,', 'would', 'not', 'be', 'speaking', 'to', 'local', 'media', 'while', 'he', 'is', 'here', 'The', 'Buffalo', 'solar', 'panel', 'factory,', 'built', 'and', 'partially', 'equipped', 'by', 'the', 'state', 'with', '$750', 'million', 'in', 'taxpayer', 'money', 'as', 'part', 'of', 'the', 'Buffalo', 'Billion', 'economic', 'development', 'program,', 'has', 'taken', 'far', 'longer', 'than', 'expected', 'to', 'develop', 'as', \"Tesla's\", 'solar', 'energy', 'business', 'has', 'shrunk', 'and', 'the', 'company', 'has', 'focused', 'most', 'of', 'its', 'resources', 'on', 'its', 'electric', 'vehicle', 'business', 'The', 'plant,', 'which', 'Tesla', 'has', 'pledged', 'will', 'employ', '1,460', 'people', 'by', 'April', '2020,', 'currently', 'has', 'fewer', 'than', '800', 'workers', 'after', 'a', 'companywide', 'round', 'of', 'job', 'cuts', 'earlier', 'this', 'year', '']\n"
     ]
    }
   ],
   "source": [
    "with open('textsprint.txt', 'r') as myfile:\n",
    "    textfile = myfile.read()\n",
    "\n",
    "text = textfile.split(\" \")\n",
    "\n",
    "words = []\n",
    "\n",
    "for i in range(len(text)):\n",
    "    if '\\n' in text[i]:\n",
    "        text[i] = text[i].replace('\\n', ' ')\n",
    "        text[i] = text[i].split('.')\n",
    "        words.append(text[i][0])\n",
    "        words.append(text[i][1])\n",
    "    else:\n",
    "        words.append(text[i])\n",
    "        \n",
    "print(words)"
   ]
  },
  {
   "cell_type": "code",
   "execution_count": 10,
   "metadata": {},
   "outputs": [],
   "source": [
    "def test():\n",
    "    \n",
    "    words = \"The quick brown fox jumped over the lazy dog\".split(\" \")\n",
    "\n",
    "    for word in words:\n",
    "        length = len(word)\n",
    "        leftHalf = word[0:length//2 ]\n",
    "        centerChar = word[length//2].upper()\n",
    "        rightHalf = word[length//2 + 1:]\n",
    "        print( leftHalf + centerChar  + rightHalf)"
   ]
  },
  {
   "cell_type": "code",
   "execution_count": 78,
   "metadata": {},
   "outputs": [
    {
     "name": "stdout",
     "output_type": "stream",
     "text": [
      "['like', 'dogs']\n"
     ]
    }
   ],
   "source": [
    "texto = []\n",
    "\n",
    "test = \"like.dogs\"\n",
    "test = test.split('.')\n",
    "\n",
    "texto.append(test[0])\n",
    "texto.append(test[1])\n",
    "print(texto)"
   ]
  },
  {
   "cell_type": "code",
   "execution_count": null,
   "metadata": {},
   "outputs": [],
   "source": []
  }
 ],
 "metadata": {
  "kernelspec": {
   "display_name": "Python 3",
   "language": "python",
   "name": "python3"
  },
  "language_info": {
   "codemirror_mode": {
    "name": "ipython",
    "version": 3
   },
   "file_extension": ".py",
   "mimetype": "text/x-python",
   "name": "python",
   "nbconvert_exporter": "python",
   "pygments_lexer": "ipython3",
   "version": "3.7.3"
  }
 },
 "nbformat": 4,
 "nbformat_minor": 2
}
