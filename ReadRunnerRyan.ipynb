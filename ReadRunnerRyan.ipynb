{
 "cells": [
  {
   "cell_type": "code",
   "execution_count": 77,
   "metadata": {},
   "outputs": [
    {
     "name": "stdout",
     "output_type": "stream",
     "text": [
      "['Politicians', 'have', 'had', 'strong', 'opinions', 'on', 'what', 'the', 'Federal', 'Reserve', 'should', 'and', 'shouldn’t', 'do', 'throughout', 'its', '105-year', 'history', 'They', 'have', 'pushed', 'for', 'lower', 'interest', 'rates', 'and', 'easier', 'money,', 'or', 'for', 'this', 'or', 'that', 'policy', 'on', 'bank', 'regulation', 'or', 'consumer', 'protection.', 'They', 'have', 'summoned', 'Fed', 'leaders', 'to', 'the', 'White', 'House', 'or', 'Congress', 'to', 'persuade', 'and', 'cajole', 'In', 'that', 'sense,', 'there', 'is', 'nothing', 'new', 'in', 'President', 'Trump’s', 'aggressive', 'approach', 'to', 'the', 'Fed.', 'This', 'week,', 'he', 'called', 'for', 'lower', 'interest', 'rates', 'and', 'new', 'quantitative', 'easing,', 'and', 'he', 'signaled', 'an', 'intention', 'to', 'appoint', 'two', 'vocal', 'supporters,', 'Stephen', 'Moore', 'and', 'Herman', 'Cain,', 'to', 'the', 'board', 'of', 'governors', 'What', 'makes', 'Mr.', 'Trump’s', 'approach', 'to', 'the', 'Fed', 'so', 'unusual', 'is', 'that', 'he', 'has', 'repeatedly,', 'publicly', 'undermined', 'a', 'Fed', 'chief', 'he', 'appointed', '(Jerome', 'Powell),', 'and,', 'if', 'successful,', 'he', 'would', 'put', 'two', 'officials', 'with', 'a', 'background', 'in', 'partisan', 'politics', 'in', 'the', 'inner', 'sanctum', 'of', 'Fed', 'policymaking.', '(Mr.', 'Moore', 'was', 'founder', 'of', 'the', 'Club', 'for', 'Growth,', 'which', 'supports', 'conservative', 'candidates', 'for', 'office,', 'and', 'Mr.', 'Cain', 'ran', 'for', 'president', ')“It’s', 'more', 'overtly', 'political', 'than', 'anything', 'we’ve', 'seen', 'since', 'at', 'least', 'the', '’80s,', 'and', 'historically', 'when', 'we’ve', 'had', 'political', 'appointments', 'and', 'interventions', 'in', 'the', 'Fed,', 'there', 'have', 'been', 'unintended', 'consequences', 'that', 'last,”', 'said', 'Julia', 'Coronado,', 'president', 'of', 'MacroPolicy', 'Perspectives', 'and', 'a', 'former', 'Fed', 'staffer.', '“It', 'may', 'be', 'expedient', 'in', 'the', 'near', 'term,', 'but', 'what’s', 'good', 'for', 'the', 'next', 'year', 'or', 'two', 'may', 'not', 'be', 'good', 'for', 'the', 'next', 'decade', '”All', 'presidential', 'appointees', 'to', 'the', 'Fed’s', 'board', 'of', 'governors', 'come', 'with', 'their', 'own', 'political', 'point', 'of', 'view,', 'which', 'generally', 'dovetails', 'with', 'the', 'president', 'who', 'appointed', 'them.', 'But', 'typically', 'they', 'have', 'also', 'brought', 'deep', 'technical', 'expertise', 'and', 'an', 'inclination', 'to', 'keep', 'political', 'dimensions', 'out', 'of', 'Fed', 'debates.']\n"
     ]
    }
   ],
   "source": [
    "with open('textsprint.txt', 'r') as myfile:\n",
    "    textfile = myfile.read()\n",
    "\n",
    "text = textfile.split(\" \")\n",
    "\n",
    "words = []\n",
    "\n",
    "for i in range(len(text)):\n",
    "    if '\\n' in text[i]:\n",
    "        text[i] = text[i].replace('\\n', '')\n",
    "        text[i] = text[i].split('.')\n",
    "        words.append(text[i][0])\n",
    "        words.append(text[i][1])\n",
    "    else:\n",
    "        words.append(text[i])\n",
    "        \n",
    "print(words)"
   ]
  },
  {
   "cell_type": "code",
   "execution_count": 78,
   "metadata": {},
   "outputs": [
    {
     "name": "stdout",
     "output_type": "stream",
     "text": [
      "['like', 'dogs']\n"
     ]
    }
   ],
   "source": [
    "texto = []\n",
    "\n",
    "test = \"like.dogs\"\n",
    "test = test.split('.')\n",
    "\n",
    "texto.append(test[0])\n",
    "texto.append(test[1])\n",
    "print(texto)"
   ]
  },
  {
   "cell_type": "code",
   "execution_count": null,
   "metadata": {},
   "outputs": [],
   "source": []
  }
 ],
 "metadata": {
  "kernelspec": {
   "display_name": "Python 3",
   "language": "python",
   "name": "python3"
  },
  "language_info": {
   "codemirror_mode": {
    "name": "ipython",
    "version": 3
   },
   "file_extension": ".py",
   "mimetype": "text/x-python",
   "name": "python",
   "nbconvert_exporter": "python",
   "pygments_lexer": "ipython3",
   "version": "3.6.5"
  }
 },
 "nbformat": 4,
 "nbformat_minor": 2
}
